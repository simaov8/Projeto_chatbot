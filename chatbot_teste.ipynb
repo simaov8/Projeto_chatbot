{
  "nbformat": 4,
  "nbformat_minor": 0,
  "metadata": {
    "colab": {
      "provenance": [],
      "authorship_tag": "ABX9TyNGAMGZXPIaYIx/8TIe6XOz",
      "include_colab_link": true
    },
    "kernelspec": {
      "name": "python3",
      "display_name": "Python 3"
    },
    "language_info": {
      "name": "python"
    }
  },
  "cells": [
    {
      "cell_type": "markdown",
      "metadata": {
        "id": "view-in-github",
        "colab_type": "text"
      },
      "source": [
        "<a href=\"https://colab.research.google.com/github/simaov8/Projeto_chatbot/blob/main/chatbot_teste.ipynb\" target=\"_parent\"><img src=\"https://colab.research.google.com/assets/colab-badge.svg\" alt=\"Open In Colab\"/></a>"
      ]
    },
    {
      "cell_type": "code",
      "execution_count": 1,
      "metadata": {
        "id": "etLiPCn5pbXV"
      },
      "outputs": [],
      "source": [
        "!pip install -q -U google-generativeai"
      ]
    },
    {
      "cell_type": "code",
      "source": [
        "# Import the Python SDK\n",
        "import google.generativeai as genai\n",
        "from google.colab import userdata\n",
        "GOOGLE_API_KEY=userdata.get('api_key')\n",
        "genai.configure(api_key=GOOGLE_API_KEY)"
      ],
      "metadata": {
        "id": "-8n3DgWnv7M6"
      },
      "execution_count": 12,
      "outputs": []
    },
    {
      "cell_type": "markdown",
      "source": [
        "Listar os modelos disponíveis"
      ],
      "metadata": {
        "id": "sH0b1DWWwixA"
      }
    },
    {
      "cell_type": "code",
      "source": [
        "for m in genai.list_models():\n",
        "  if 'generateContent' in m.supported_generation_methods:\n",
        "    print(m.name)"
      ],
      "metadata": {
        "colab": {
          "base_uri": "https://localhost:8080/",
          "height": 142
        },
        "id": "JhG_cfmKwmdS",
        "outputId": "6cbb79c6-47ff-4d31-f449-c40871a551a6"
      },
      "execution_count": 3,
      "outputs": [
        {
          "output_type": "stream",
          "name": "stdout",
          "text": [
            "models/gemini-1.0-pro\n",
            "models/gemini-1.0-pro-001\n",
            "models/gemini-1.0-pro-latest\n",
            "models/gemini-1.0-pro-vision-latest\n",
            "models/gemini-1.5-pro-latest\n",
            "models/gemini-pro\n",
            "models/gemini-pro-vision\n"
          ]
        }
      ]
    },
    {
      "cell_type": "code",
      "source": [
        "generation_config = {\n",
        "    \"candidate_count\": 1,\n",
        "    \"temperature\": 0.5,\n",
        "}"
      ],
      "metadata": {
        "id": "9uobcjh2zC9c"
      },
      "execution_count": 4,
      "outputs": []
    },
    {
      "cell_type": "code",
      "source": [
        "safety_settings = [\n",
        "  {\n",
        "    \"category\": \"HARM_CATEGORY_HARASSMENT\",\n",
        "    \"threshold\": \"BLOCK_MEDIUM_AND_ABOVE\"\n",
        "  },\n",
        "  {\n",
        "    \"category\": \"HARM_CATEGORY_HATE_SPEECH\",\n",
        "    \"threshold\": \"BLOCK_MEDIUM_AND_ABOVE\"\n",
        "  },\n",
        "  {\n",
        "    \"category\": \"HARM_CATEGORY_SEXUALLY_EXPLICIT\",\n",
        "    \"threshold\": \"BLOCK_MEDIUM_AND_ABOVE\"\n",
        "  },\n",
        "  {\n",
        "    \"category\": \"HARM_CATEGORY_DANGEROUS_CONTENT\",\n",
        "    \"threshold\": \"BLOCK_MEDIUM_AND_ABOVE\"\n",
        "  },\n",
        "]"
      ],
      "metadata": {
        "id": "9_4phFc9zk4T"
      },
      "execution_count": 5,
      "outputs": []
    },
    {
      "cell_type": "markdown",
      "source": [
        "Inicializando o modelo"
      ],
      "metadata": {
        "id": "2l6tOz9BVPj7"
      }
    },
    {
      "cell_type": "code",
      "source": [
        "model = genai.GenerativeModel(model_name=\"gemini-pro\", generation_config=generation_config, safety_settings=safety_settings)"
      ],
      "metadata": {
        "id": "8gdD5okNv8RD"
      },
      "execution_count": 7,
      "outputs": []
    },
    {
      "cell_type": "code",
      "source": [
        "#response = model.generate_content(\"que horas são no Japão com relação ao horário de Goiânia?\")\n",
        "#print(response.text)"
      ],
      "metadata": {
        "id": "xC20JKl8wIvO"
      },
      "execution_count": 13,
      "outputs": []
    },
    {
      "cell_type": "code",
      "source": [
        "chat = model.start_chat(history=[])"
      ],
      "metadata": {
        "id": "ITzTJZ85XRts"
      },
      "execution_count": 9,
      "outputs": []
    },
    {
      "cell_type": "code",
      "source": [
        "prompt = input(\"Pergunta: \")\n",
        "\n",
        "while prompt != \"fim\":\n",
        "  response = chat.send_message(prompt)\n",
        "  print(\"Resposta: \", response.text, \"\\n\")\n",
        "  prompt = input(\"Esperando prompt\")"
      ],
      "metadata": {
        "colab": {
          "base_uri": "https://localhost:8080/",
          "height": 537
        },
        "id": "y4KirStDXxK2",
        "outputId": "4e426863-d9e1-4122-e53f-d3543aa61fe0"
      },
      "execution_count": 14,
      "outputs": [
        {
          "name": "stdout",
          "output_type": "stream",
          "text": [
            "Pergunta: o que é um ornitorrinco\n",
            "Resposta:  O ornitorrinco é um mamífero semi-aquático endêmico da Austrália e da Tasmânia. É um dos cinco mamíferos conhecidos que põem ovos, e é o único mamífero que possui um bico de pato, pés palmados e esporas venenosas nas patas traseiras dos machos.\n",
            "\n",
            "**Características:**\n",
            "\n",
            "* **Bico de pato:** O bico é coberto por uma pele macia e sensível que contém receptores eletrossensoriais, permitindo que o ornitorrinco detecte presas elétricas na água.\n",
            "* **Pés palmados:** Os pés palmados ajudam o ornitorrinco a nadar e mergulhar.\n",
            "* **Esporas venenosas:** Os machos têm esporas venenosas nas patas traseiras que usam para defesa.\n",
            "* **Põe ovos:** O ornitorrinco é um monotremado, o que significa que põe ovos em vez de dar à luz a filhotes vivos.\n",
            "* **Amamenta seus filhotes:** Apesar de por ovos, o ornitorrinco produz leite para amamentar seus filhotes.\n",
            "\n",
            "**Habitat e dieta:**\n",
            "\n",
            "* Os ornitorrincos vivem em rios, lagos e riachos de água doce.\n",
            "* Eles se alimentam principalmente de larvas de insetos, vermes e crustáceos, que localizam usando seus receptores eletrossensoriais.\n",
            "\n",
            "**Comportamento:**\n",
            "\n",
            "* Os ornitorrincos são animais solitários e noturnos.\n",
            "* Eles são excelentes nadadores e mergulhadores, e podem permanecer submersos por até 10 minutos.\n",
            "* Eles constroem tocas nas margens dos rios, onde põem seus ovos e criam seus filhotes.\n",
            "\n",
            "**Conservação:**\n",
            "\n",
            "* Os ornitorrincos são classificados como \"quase ameaçados\" pela União Internacional para a Conservação da Natureza (IUCN).\n",
            "* As principais ameaças aos ornitorrincos incluem perda de habitat, poluição da água e predação por espécies introduzidas. \n",
            "\n",
            "Esperando promptfim\n"
          ]
        }
      ]
    }
  ]
}